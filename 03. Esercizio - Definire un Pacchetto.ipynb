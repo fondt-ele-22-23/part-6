{
 "cells": [
  {
   "cell_type": "markdown",
   "metadata": {
    "slideshow": {
     "slide_type": "subslide"
    }
   },
   "source": [
    "## Esercizio: Definire un Pacchetto\n",
    "\n",
    "**Si desidera definire un pacchetto `num` per operazioni di calcolo numerico**\n",
    "\n",
    "Il nostro pacchetto rappresenterà vettori matematici mediante _liste_\n",
    "\n",
    "* Per prima cosa, si proceda a creare il modulo `num` nel pacchetto `sol`\n",
    "  - Per farlo, creare la cartella `sol`\n",
    "  - Quindi, creare al suo interno un file di nome `__init__.py`\n",
    "  - Infine, creare all'interno di `sol` il file `num.py`\n",
    "* Per comodità, si abiliti l'estensione `autoreaload` di Jupyter "
   ]
  },
  {
   "cell_type": "code",
   "execution_count": 1,
   "metadata": {},
   "outputs": [],
   "source": [
    "%load_ext autoreload\n",
    "%autoreload 2"
   ]
  },
  {
   "cell_type": "markdown",
   "metadata": {},
   "source": [
    "## Esercizio: Somma di Vettori\n",
    "\n",
    "**Si definisca nel modulo `num` una funzione:**\n",
    "\n",
    "```python\n",
    "def add(x, y)\n",
    "```\n",
    "\n",
    "La funzione deve:\n",
    "\n",
    "- Ricevere in ingresso due liste `x` e `y` (si assume che siano della stessa lunghezza)\n",
    "- Calcolarne la somma elemento per elemento, i.e.:\n",
    "\n",
    "$$\n",
    "z_i = x_i + y_i\n",
    "$$"
   ]
  },
  {
   "cell_type": "code",
   "execution_count": 2,
   "metadata": {},
   "outputs": [
    {
     "name": "stdout",
     "output_type": "stream",
     "text": [
      "[1, 2, 3] + [4, 5, 6] = [5, 7, 9]\n"
     ]
    }
   ],
   "source": [
    "from sol import num\n",
    "\n",
    "x = [1, 2, 3]\n",
    "y = [4, 5, 6]\n",
    "z = num.add(x, y)  \n",
    "print(f\"{x} + {y} = {z}\")"
   ]
  },
  {
   "cell_type": "markdown",
   "metadata": {},
   "source": [
    "## Esercizio: Prodotto Elemento per Elemento\n",
    "\n",
    "**Si definisca nel modulo `num` una funzione:**\n",
    "\n",
    "```python\n",
    "def times(x, y)\n",
    "```\n",
    "\n",
    "La funzione deve:\n",
    "\n",
    "- Ricevere in ingresso due liste `x` e `y` (si assume che siano della stessa lunghezza)\n",
    "- Calcolarne il prodotto elemento per elemento, i.e.:\n",
    "\n",
    "$$\n",
    "z_i = x_i y_i\n",
    "$$"
   ]
  },
  {
   "cell_type": "code",
   "execution_count": 3,
   "metadata": {},
   "outputs": [
    {
     "name": "stdout",
     "output_type": "stream",
     "text": [
      "[1, 2, 3] * [4, 5, 6] = [4, 10, 18]\n"
     ]
    }
   ],
   "source": [
    "from sol import num\n",
    "\n",
    "x = [1, 2, 3]\n",
    "y = [4, 5, 6]\n",
    "z = num.times(x, y)  \n",
    "print(f\"{x} * {y} = {z}\")"
   ]
  },
  {
   "cell_type": "markdown",
   "metadata": {},
   "source": [
    "## Esercizio: Elevamento a Potenza Elemento per Elemento\n",
    "\n",
    "**Si definisca nel modulo `num` una funzione:**\n",
    "\n",
    "```python\n",
    "def vpow(x, n)\n",
    "```\n",
    "\n",
    "La funzione deve:\n",
    "\n",
    "- Ricevere in ingresso due liste `x` e `y` (si assume che siano della stessa lunghezza)\n",
    "- Calcolare la potenza $n$-ma di ciascun elemento, i.e.:\n",
    "\n",
    "$$\n",
    "z_i = x_i^n\n",
    "$$"
   ]
  },
  {
   "cell_type": "code",
   "execution_count": 4,
   "metadata": {},
   "outputs": [
    {
     "name": "stdout",
     "output_type": "stream",
     "text": [
      "[1, 2, 3]^2 = [1, 4, 9]\n"
     ]
    }
   ],
   "source": [
    "from sol import num\n",
    "\n",
    "x = [1, 2, 3]\n",
    "n = 2\n",
    "z = num.vpow(x, n)  \n",
    "print(f\"{x}^{n} = {z}\")"
   ]
  }
 ],
 "metadata": {
  "celltoolbar": "Slideshow",
  "kernelspec": {
   "display_name": "Python 3 (ipykernel)",
   "language": "python",
   "name": "python3"
  },
  "language_info": {
   "codemirror_mode": {
    "name": "ipython",
    "version": 3
   },
   "file_extension": ".py",
   "mimetype": "text/x-python",
   "name": "python",
   "nbconvert_exporter": "python",
   "pygments_lexer": "ipython3",
   "version": "3.10.8"
  },
  "rise": {
   "center": false,
   "enable_chalkboard": true,
   "transition": "fade"
  }
 },
 "nbformat": 4,
 "nbformat_minor": 4
}
